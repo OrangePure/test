{
 "cells": [
  {
   "cell_type": "code",
   "execution_count": 1,
   "id": "b586fb34",
   "metadata": {},
   "outputs": [],
   "source": [
    "import numpy as np\n",
    "np.random.seed(0)\n",
    "import gym"
   ]
  },
  {
   "cell_type": "code",
   "execution_count": 2,
   "id": "07bdd664",
   "metadata": {},
   "outputs": [
    {
     "data": {
      "text/plain": [
       "[0]"
      ]
     },
     "execution_count": 2,
     "metadata": {},
     "output_type": "execute_result"
    }
   ],
   "source": [
    "env = gym.make('FrozenLake-v1', map_name=\"4x4\")\n",
    "env.seed(0)"
   ]
  },
  {
   "cell_type": "code",
   "execution_count": 3,
   "id": "fadd0965",
   "metadata": {},
   "outputs": [],
   "source": [
    "def play_policy(env, policy, render=False):#根据policy策略进行一次游戏循环并返回结果总回报\n",
    "    total_reward = 0.\n",
    "    observation = env.reset()\n",
    "    while True:\n",
    "        if render:\n",
    "            env.render() # 此行可显示\n",
    "        action = np.random.choice(env.action_space.n,\n",
    "                p=policy[observation])\n",
    "        observation, reward, done, _ = env.step(action)\n",
    "        total_reward += reward  # 统计回合奖励\n",
    "        if done: # 游戏结束\n",
    "            break\n",
    "    return total_reward"
   ]
  },
  {
   "cell_type": "code",
   "execution_count": 4,
   "id": "42e5d771",
   "metadata": {},
   "outputs": [],
   "source": [
    "def monte_carlo_with_soft(env, episode_num=500000, epsilon=0.1):\n",
    "    policy = np.ones((16,4))*0.25\n",
    "    q = np.zeros_like(policy)\n",
    "    c = np.zeros_like(policy)\n",
    "    for _ in range(episode_num):\n",
    "        # 玩一回合\n",
    "        state_actions = []\n",
    "        observation = env.reset()\n",
    "        while True:\n",
    "            action = np.random.choice(env.action_space.n, p=policy[observation])\n",
    "            state_actions.append((observation, action))\n",
    "            observation, reward, done, _ = env.step(action)\n",
    "            if done:\n",
    "                break # 回合结束\n",
    "        g = reward # 回报\n",
    "        for state, action in state_actions:\n",
    "            c[state][action] += 1.\n",
    "            q[state][action] += (g - q[state][action]) / c[state][action]\n",
    "            # 更新策略为柔性策略\n",
    "            a = q[state].argmax()\n",
    "            policy[state] = epsilon / 4.\n",
    "            policy[state][a] += (1. - epsilon)\n",
    "    return policy, q"
   ]
  },
  {
   "cell_type": "code",
   "execution_count": 5,
   "id": "52c45695",
   "metadata": {},
   "outputs": [
    {
     "name": "stdout",
     "output_type": "stream",
     "text": [
      "柔性策略蒙特卡洛方法策略\n",
      "[[0.025 0.025 0.925 0.025]\n",
      " [0.025 0.025 0.025 0.925]\n",
      " [0.025 0.025 0.925 0.025]\n",
      " [0.025 0.025 0.025 0.925]\n",
      " [0.025 0.025 0.925 0.025]\n",
      " [0.25  0.25  0.25  0.25 ]\n",
      " [0.025 0.025 0.925 0.025]\n",
      " [0.25  0.25  0.25  0.25 ]\n",
      " [0.025 0.025 0.025 0.925]\n",
      " [0.025 0.925 0.025 0.025]\n",
      " [0.925 0.025 0.025 0.025]\n",
      " [0.25  0.25  0.25  0.25 ]\n",
      " [0.25  0.25  0.25  0.25 ]\n",
      " [0.025 0.025 0.925 0.025]\n",
      " [0.025 0.925 0.025 0.025]\n",
      " [0.25  0.25  0.25  0.25 ]]\n",
      "柔性策略蒙特卡洛方法状态价值：\n",
      "[[0.13862515 0.15262134 0.19550543 0.17339912]\n",
      " [0.12483717 0.         0.20703831 0.        ]\n",
      " [0.26985431 0.41478295 0.45345973 0.        ]\n",
      " [0.         0.57049746 0.7707072  0.        ]]\n"
     ]
    }
   ],
   "source": [
    "policy, q = monte_carlo_with_soft(env)\n",
    "print('柔性策略蒙特卡洛方法策略')\n",
    "print(policy)\n",
    "q=np.multiply(policy,q)\n",
    "print('柔性策略蒙特卡洛方法状态价值：')\n",
    "print(q.sum(axis=-1).reshape(4,4))"
   ]
  },
  {
   "cell_type": "code",
   "execution_count": 6,
   "id": "ffcc16f6",
   "metadata": {},
   "outputs": [
    {
     "name": "stdout",
     "output_type": "stream",
     "text": [
      "[[2 3 2 3]\n",
      " [2 0 2 0]\n",
      " [3 1 0 0]\n",
      " [0 2 1 0]]\n"
     ]
    }
   ],
   "source": [
    "print(np.argmax(policy, axis=1).reshape(4, 4))"
   ]
  },
  {
   "cell_type": "code",
   "execution_count": 7,
   "id": "3107725f",
   "metadata": {},
   "outputs": [
    {
     "name": "stdout",
     "output_type": "stream",
     "text": [
      "价值迭代 平均奖励：0.2\n"
     ]
    }
   ],
   "source": [
    "episode_rewards = [play_policy(env, policy) for _ in range(100)]\n",
    "print(\"价值迭代 平均奖励：{}\".format(np.mean(episode_rewards)))"
   ]
  },
  {
   "cell_type": "code",
   "execution_count": 8,
   "id": "15713a53",
   "metadata": {},
   "outputs": [],
   "source": [
    "def monte_carlo_importance_sample(env, episode_num=500000):\n",
    "    policy = np.zeros((16,4))\n",
    "    policy[:,0]=1\n",
    "    behavior_policy = np.ones_like(policy) * 0.25 # 柔性策略\n",
    "    q = np.zeros_like(policy)\n",
    "    c = np.zeros_like(policy)\n",
    "    for _ in range(episode_num):\n",
    "        # 用行为策略玩一回合\n",
    "        state_actions = []\n",
    "        observation = env.reset()\n",
    "        while True:\n",
    "            action = np.random.choice(env.action_space.n,\n",
    "                    p=behavior_policy[observation])\n",
    "            state_actions.append((observation, action))\n",
    "            observation, reward, done, _ = env.step(action)\n",
    "            if done:\n",
    "                break\n",
    "        g = reward # 回报\n",
    "        rho = 1. # 重要性采样比率\n",
    "        for state, action in reversed(state_actions):\n",
    "            c[state][action] += rho\n",
    "            q[state][action] += (rho / c[state][action] * (g - q[state][action]))\n",
    "            # 策略改进\n",
    "            a = q[state].argmax()\n",
    "            policy[state] = 0.\n",
    "            policy[state][a] = 1.\n",
    "            if a != action: # 提前终止\n",
    "                break\n",
    "            rho /= behavior_policy[state][action]\n",
    "    return policy, q"
   ]
  },
  {
   "cell_type": "code",
   "execution_count": 9,
   "id": "88a15843",
   "metadata": {},
   "outputs": [
    {
     "name": "stdout",
     "output_type": "stream",
     "text": [
      "重要性采样蒙特卡洛方法策略\n",
      "[[1. 0. 0. 0.]\n",
      " [0. 0. 0. 1.]\n",
      " [0. 0. 0. 1.]\n",
      " [1. 0. 0. 0.]\n",
      " [0. 0. 1. 0.]\n",
      " [1. 0. 0. 0.]\n",
      " [0. 0. 1. 0.]\n",
      " [1. 0. 0. 0.]\n",
      " [0. 0. 0. 1.]\n",
      " [0. 0. 0. 1.]\n",
      " [0. 1. 0. 0.]\n",
      " [1. 0. 0. 0.]\n",
      " [1. 0. 0. 0.]\n",
      " [0. 0. 1. 0.]\n",
      " [0. 0. 0. 1.]\n",
      " [1. 0. 0. 0.]]\n",
      "重要性采样蒙特卡洛方法状态价值：\n",
      "[[0.81916044 0.81268583 0.65838859 0.        ]\n",
      " [0.26980756 0.         0.27221172 0.        ]\n",
      " [0.03187957 0.94680621 0.99121605 0.        ]\n",
      " [0.         0.2922619  0.99831371 0.        ]]\n"
     ]
    }
   ],
   "source": [
    "policy, q = monte_carlo_importance_sample(env)\n",
    "print('重要性采样蒙特卡洛方法策略')\n",
    "print(policy)\n",
    "q=np.multiply(policy,q)\n",
    "print('重要性采样蒙特卡洛方法状态价值：')\n",
    "print(q.sum(axis=-1).reshape(4,4))"
   ]
  },
  {
   "cell_type": "code",
   "execution_count": 10,
   "id": "9138af96",
   "metadata": {},
   "outputs": [
    {
     "name": "stdout",
     "output_type": "stream",
     "text": [
      "[[0 3 3 0]\n",
      " [2 0 2 0]\n",
      " [3 3 1 0]\n",
      " [0 2 3 0]]\n"
     ]
    }
   ],
   "source": [
    "print(np.argmax(policy, axis=1).reshape(4, 4))"
   ]
  },
  {
   "cell_type": "code",
   "execution_count": 11,
   "id": "b0be4c9f",
   "metadata": {},
   "outputs": [
    {
     "name": "stdout",
     "output_type": "stream",
     "text": [
      "价值迭代 平均奖励：0.07\n"
     ]
    }
   ],
   "source": [
    "episode_rewards = [play_policy(env, policy) for _ in range(100)]\n",
    "print(\"价值迭代 平均奖励：{}\".format(np.mean(episode_rewards)))\n"
   ]
  },
  {
   "cell_type": "code",
   "execution_count": null,
   "id": "6ad58f81",
   "metadata": {},
   "outputs": [],
   "source": []
  }
 ],
 "metadata": {
  "kernelspec": {
   "display_name": "Python 3 (ipykernel)",
   "language": "python",
   "name": "python3"
  },
  "language_info": {
   "codemirror_mode": {
    "name": "ipython",
    "version": 3
   },
   "file_extension": ".py",
   "mimetype": "text/x-python",
   "name": "python",
   "nbconvert_exporter": "python",
   "pygments_lexer": "ipython3",
   "version": "3.8.8"
  }
 },
 "nbformat": 4,
 "nbformat_minor": 5
}
