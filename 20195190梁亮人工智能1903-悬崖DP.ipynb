{
 "cells": [
  {
   "cell_type": "code",
   "execution_count": 1,
   "id": "c3969627",
   "metadata": {},
   "outputs": [],
   "source": [
    "import numpy as np\n",
    "np.random.seed(0)\n",
    "import scipy\n",
    "import gym"
   ]
  },
  {
   "cell_type": "code",
   "execution_count": 2,
   "id": "1561fafb",
   "metadata": {},
   "outputs": [
    {
     "data": {
      "text/plain": [
       "[0]"
      ]
     },
     "execution_count": 2,
     "metadata": {},
     "output_type": "execute_result"
    }
   ],
   "source": [
    "env = gym.make('CliffWalking-v0')\n",
    "env.seed(0)"
   ]
  },
  {
   "cell_type": "code",
   "execution_count": 3,
   "id": "828faaaf",
   "metadata": {},
   "outputs": [],
   "source": [
    "def play_once(env, policy):\n",
    "    total_reward = 0\n",
    "    state = env.reset()\n",
    "    while True:\n",
    "        loc = np.unravel_index(state, env.shape)\n",
    "        #print('状态 = {}, 位置 = {}'.format(state, loc), end=' ')\n",
    "        action = np.random.choice(env.action_space.n, p=policy[state])\n",
    "        next_state, reward, done, _ = env.step(action)\n",
    "        #print('动作 = {}, 奖励 = {}'.format(action, reward))\n",
    "        total_reward += reward\n",
    "        if done:\n",
    "            break\n",
    "        state = next_state\n",
    "    return total_reward"
   ]
  },
  {
   "cell_type": "code",
   "execution_count": 4,
   "id": "70cd37c8",
   "metadata": {},
   "outputs": [],
   "source": [
    "def v2q(env, v, s=None, gamma=1.): # 根据状态价值函数计算动作价值函数\n",
    "    if s is not None: # 针对单个状态求解\n",
    "        q = np.zeros(env.action_space.n)\n",
    "        for a in range(env.action_space.n):\n",
    "            for prob, next_state, reward, done in env.unwrapped.P[s][a]:\n",
    "                q[a] += prob * \\\n",
    "                        (reward + gamma * v[next_state] * (1. - done))\n",
    "    else: # 针对所有状态求解\n",
    "        q = np.zeros((env.observation_space.n, env.action_space.n))\n",
    "        for s in range(env.observation_space.n):\n",
    "            q[s] = v2q(env, v, s, gamma)\n",
    "    return q\n",
    "\n",
    "def evaluate_policy(env, policy, gamma=1., tolerant=1e-6):\n",
    "    v = np.zeros(env.observation_space.n) # 初始化状态价值函数\n",
    "    while True:\n",
    "        delta =0\n",
    "        for s in range(env.observation_space.n):\n",
    "            vs=sum(policy[s]*v2q(env,v,s,gamma))#v状态价值，s当前状态\n",
    "            delta=max(delta,abs(v[s]-vs))\n",
    "            v[s]=vs\n",
    "        if delta<tolerant:\n",
    "            break\n",
    "    return v"
   ]
  },
  {
   "cell_type": "code",
   "execution_count": 5,
   "id": "c3e47224",
   "metadata": {},
   "outputs": [],
   "source": [
    "def improve_policy(env, v, policy, gamma=1.):\n",
    "    optimal = True\n",
    "    for s in range(env.observation_space.n):\n",
    "        olda=policy[s]\n",
    "        q=v2q(env,v,s,gamma)\n",
    "        m=np.max(q)\n",
    "        policy[s]=0\n",
    "        for i in range(env.action_space.n):\n",
    "            if q[i]==m:\n",
    "                policy[s][i]=1\n",
    "        policy[s]/=np.sum(policy[s])#最大价值的动作平分概率，其余为0\n",
    "        if not (olda==policy[s]).all():\n",
    "            optimal=False\n",
    "    # 课堂练习\n",
    "    return optimal"
   ]
  },
  {
   "cell_type": "code",
   "execution_count": 6,
   "id": "47a5cd9b",
   "metadata": {},
   "outputs": [],
   "source": [
    "def iterate_policy(env, gamma=1., tolerant=1e-6):\n",
    "     # 初始化为任意一个策略\n",
    "    policy = np.ones((env.observation_space.n, env.action_space.n)) \\\n",
    "            / env.action_space.n\n",
    "    while True:\n",
    "        v = evaluate_policy(env, policy, gamma, tolerant) # 策略评估\n",
    "        if improve_policy(env, v, policy): # 策略改进\n",
    "            break\n",
    "    return policy, v"
   ]
  },
  {
   "cell_type": "code",
   "execution_count": 7,
   "id": "1b201083",
   "metadata": {},
   "outputs": [
    {
     "name": "stdout",
     "output_type": "stream",
     "text": [
      "状态价值函数 =\n",
      "[[-65104.83314117 -65038.57833489 -64886.59708602 -64615.82401465\n",
      "  -64172.32023635 -63470.84818323 -62382.03534589 -60720.8672752\n",
      "  -58253.73785602 -54780.58207859 -50443.22378433 -46534.93775419]\n",
      " [-65167.08795145 -65120.30478046 -65001.38891151 -64784.55472454\n",
      "  -64426.28851411 -63854.18897036 -62950.39058209 -61522.82862645\n",
      "  -59255.76421692 -55640.78459788 -50010.15152246 -42622.65172613]\n",
      " [-65272.12593572 -65270.16392598 -65210.09905702 -65090.71745986\n",
      "  -64890.09012716 -64565.22860396 -64038.50938757 -63160.29243348\n",
      "  -61601.70578911 -58512.64057522 -51329.94598295 -31318.86590286]\n",
      " [-65375.12593272 -65399.38543103 -65409.11921379 -65379.2738145\n",
      "  -65329.11698133 -65247.90160053 -65116.22179643 -64896.66755791\n",
      "  -64507.02089681 -63734.75459334 -45570.54946209 -24199.2479589 ]]\n",
      "最优策略 =\n",
      "[[1 1 1 1 1 1 1 1 1 1 1 2]\n",
      " [0 1 1 1 1 1 1 1 1 1 1 2]\n",
      " [0 0 0 0 0 0 0 0 1 1 1 2]\n",
      " [0 0 0 0 0 0 0 0 0 0 1 1]]\n"
     ]
    }
   ],
   "source": [
    "policy_pi, v_pi = iterate_policy(env)\n",
    "print('状态价值函数 =')\n",
    "print(v_pi.reshape(4,12))\n",
    "print('最优策略 =')\n",
    "print(np.argmax(policy_pi, axis=1).reshape(4,12))\n"
   ]
  },
  {
   "cell_type": "code",
   "execution_count": 8,
   "id": "b10e8089",
   "metadata": {},
   "outputs": [
    {
     "name": "stdout",
     "output_type": "stream",
     "text": [
      "策略迭代 平均奖励：-17.0\n"
     ]
    }
   ],
   "source": [
    "episode_rewards = [play_once(env, policy_pi)  for _ in range(100)]\n",
    "print(\"策略迭代 平均奖励：{}\".format(np.mean(episode_rewards)))"
   ]
  },
  {
   "cell_type": "code",
   "execution_count": 9,
   "id": "99a50773",
   "metadata": {},
   "outputs": [],
   "source": [
    "def iterate_value(env, gamma=1, tolerant=1e-6):\n",
    "    v = np.zeros(env.observation_space.n)\n",
    "    while True:\n",
    "        delta=0\n",
    "        for s in range(env.observation_space.n):\n",
    "            vs=np.max(v2q(env,v,s,gamma))\n",
    "            delta=max(delta,abs(v[s]-vs))\n",
    "            v[s]=vs\n",
    "        if delta<tolerant:\n",
    "            break\n",
    "    policy=v2q(env,v)\n",
    "    for s in range(env.observation_space.n):\n",
    "        m=np.argmax(policy[s])\n",
    "        policy[s]=0\n",
    "        policy[s][m]=1\n",
    "    # 课堂练习\n",
    "    return policy, v"
   ]
  },
  {
   "cell_type": "code",
   "execution_count": 10,
   "id": "95b058a2",
   "metadata": {},
   "outputs": [
    {
     "name": "stdout",
     "output_type": "stream",
     "text": [
      "状态价值函数 =\n",
      "[[-65104.83314117 -65038.57833489 -64886.59708602 -64615.82401465\n",
      "  -64172.32023635 -63470.84818323 -62382.03534589 -60720.8672752\n",
      "  -58253.73785602 -54780.58207859 -50443.22378433 -46534.93775419]\n",
      " [-65167.08795145 -65120.30478046 -65001.38891151 -64784.55472454\n",
      "  -64426.28851411 -63854.18897036 -62950.39058209 -61522.82862645\n",
      "  -59255.76421692 -55640.78459788 -50010.15152246 -42622.65172613]\n",
      " [-65272.12593572 -65270.16392598 -65210.09905702 -65090.71745986\n",
      "  -64890.09012716 -64565.22860396 -64038.50938757 -63160.29243348\n",
      "  -61601.70578911 -58512.64057522 -51329.94598295 -31318.86590286]\n",
      " [-65375.12593272 -65399.38543103 -65409.11921379 -65379.2738145\n",
      "  -65329.11698133 -65247.90160053 -65116.22179643 -64896.66755791\n",
      "  -64507.02089681 -63734.75459334 -45570.54946209 -24199.2479589 ]]\n",
      "最优策略 =\n",
      "[[1 1 1 1 1 1 1 1 1 1 1 2]\n",
      " [0 1 1 1 1 1 1 1 1 1 1 2]\n",
      " [0 0 0 0 0 0 0 0 1 1 1 2]\n",
      " [0 0 0 0 0 0 0 0 0 0 1 1]]\n"
     ]
    }
   ],
   "source": [
    "policy_pi, v_pi = iterate_policy(env)\n",
    "print('状态价值函数 =')\n",
    "print(v_pi.reshape(4,12))\n",
    "print('最优策略 =')\n",
    "print(np.argmax(policy_pi, axis=1).reshape(4,12))\n"
   ]
  },
  {
   "cell_type": "code",
   "execution_count": 11,
   "id": "d9afb5c6",
   "metadata": {},
   "outputs": [
    {
     "name": "stdout",
     "output_type": "stream",
     "text": [
      "策略迭代 平均奖励：-17.0\n"
     ]
    }
   ],
   "source": [
    "episode_rewards = [play_once(env, policy_pi)  for _ in range(100)]\n",
    "print(\"策略迭代 平均奖励：{}\".format(np.mean(episode_rewards)))"
   ]
  },
  {
   "cell_type": "code",
   "execution_count": null,
   "id": "df21a80f",
   "metadata": {},
   "outputs": [],
   "source": []
  }
 ],
 "metadata": {
  "kernelspec": {
   "display_name": "Python 3 (ipykernel)",
   "language": "python",
   "name": "python3"
  },
  "language_info": {
   "codemirror_mode": {
    "name": "ipython",
    "version": 3
   },
   "file_extension": ".py",
   "mimetype": "text/x-python",
   "name": "python",
   "nbconvert_exporter": "python",
   "pygments_lexer": "ipython3",
   "version": "3.8.8"
  }
 },
 "nbformat": 4,
 "nbformat_minor": 5
}
